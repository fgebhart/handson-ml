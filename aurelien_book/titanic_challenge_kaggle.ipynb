{
  "cells": [
    {
      "metadata": {
        "_uuid": "8f2839f25d086af736a60e9eeb907d3b93b6e0e5",
        "_cell_guid": "b1076dfc-b9ad-4769-8c92-a6c4dae69d19",
        "trusted": true
      },
      "cell_type": "markdown",
      "source": "# Titanic Challenge with \"Hands-On ML\" from Aurélien Géron\n\nall credit go to Aurélien Géron. This is basically just a copy of his exercise of chapter 3. See his [Jupyter Notebook](https://github.com/ageron/handson-ml/blob/master/03_classification.ipynb)."
    },
    {
      "metadata": {
        "_cell_guid": "79c7e3d0-c299-4dcb-8224-4455121ee9b0",
        "_uuid": "d629ff2d2480ee46fbb7e2d37f6b5fab8052498a",
        "trusted": true
      },
      "cell_type": "code",
      "source": "import pandas as pd\nimport os\n\n\n\nTITANIC_PATH = os.path.join(\"../\", \"input/\")\n\ndef load_titanic_data(filename, titanic_path=TITANIC_PATH):\n    csv_path = os.path.join(titanic_path, filename)\n    return pd.read_csv(csv_path)\n\ntrain_data = load_titanic_data(\"train.csv\")\ntest_data = load_titanic_data(\"test.csv\")",
      "execution_count": null,
      "outputs": []
    },
    {
      "metadata": {
        "_uuid": "06d60e23e7824a78ef5c1c8a3af65293ab707051"
      },
      "cell_type": "markdown",
      "source": "The data is already split into a training set and a test set. However, the test data does not contain the labels: your goal is to train the best model you can using the training data, then make your predictions on the test data and upload them to Kaggle to see your final score.\n\nLet's take a peek at the top few rows of the training set:"
    },
    {
      "metadata": {
        "trusted": true,
        "_uuid": "fe2e7c29f66de857871e0bca0374c51287fb5beb"
      },
      "cell_type": "code",
      "source": "train_data.head()",
      "execution_count": null,
      "outputs": []
    },
    {
      "metadata": {
        "_uuid": "61e3c16e58327b0f0f87a0e6867808897ecc6a09"
      },
      "cell_type": "markdown",
      "source": "The attributes have the following meaning:\n\n*     Survived: that's the target, 0 means the passenger did not survive, while 1 means he/she survived.\n*     Pclass: passenger class.\n*     Name, Sex, Age: self-explanatory\n*     SibSp: how many siblings & spouses of the passenger aboard the Titanic.\n*     Parch: how many children & parents of the passenger aboard the Titanic.\n*     Ticket: ticket id\n*     Fare: price paid (in pounds)\n*     Cabin: passenger's cabin number\n*     Embarked: where the passenger embarked the Titanic\n\nLet's get more info to see how much data is missing:\n"
    },
    {
      "metadata": {
        "trusted": true,
        "_uuid": "457e9995502a8fc12e8ac8ddd6fbd3ff336a8408"
      },
      "cell_type": "code",
      "source": "train_data.info()",
      "execution_count": null,
      "outputs": []
    },
    {
      "metadata": {
        "_uuid": "2cda1be755c1c9cde35ccb40818cfe4b8eadfc8b"
      },
      "cell_type": "markdown",
      "source": "Okay, the Age, Cabin and Embarked attributes are sometimes null (less than 891 non-null), especially the Cabin (77% are null). We will ignore the Cabin for now and focus on the rest. The Age attribute has about 19% null values, so we will need to decide what to do with them. Replacing null values with the median age seems reasonable.\n\nThe Name and Ticket attributes may have some value, but they will be a bit tricky to convert into useful numbers that a model can consume. So for now, we will ignore them.\n\nLet's take a look at the numerical attributes:\n"
    },
    {
      "metadata": {
        "trusted": true,
        "_uuid": "3da961c872a62796303936f66eae8aa92ec8945a"
      },
      "cell_type": "code",
      "source": "train_data.describe()",
      "execution_count": null,
      "outputs": []
    },
    {
      "metadata": {
        "_uuid": "705b5f2db4eac7db398362a339f4d64c500003d0"
      },
      "cell_type": "markdown",
      "source": "\n    Yikes, only 38% Survived. :( That's close enough to 40%, so accuracy will be a reasonable metric to evaluate our model.\n    The mean Fare was £32.20, which does not seem so expensive (but it was probably a lot of money back then).\n    The mean Age was less than 30 years old.\n\nLet's check that the target is indeed 0 or 1:\n"
    },
    {
      "metadata": {
        "trusted": true,
        "_uuid": "c6f08ebc1ef84af91e245ccaa5e8be4dc994dc54"
      },
      "cell_type": "code",
      "source": "train_data[\"Survived\"].value_counts()",
      "execution_count": null,
      "outputs": []
    },
    {
      "metadata": {
        "trusted": true,
        "_uuid": "a3e204ef8dba783f3a862db083777609427363ab"
      },
      "cell_type": "code",
      "source": "train_data[\"Pclass\"].value_counts()",
      "execution_count": null,
      "outputs": []
    },
    {
      "metadata": {
        "trusted": true,
        "_uuid": "684ae3f59e0712f62b8c0cb41045c38063e307b2"
      },
      "cell_type": "code",
      "source": "train_data[\"Sex\"].value_counts()",
      "execution_count": null,
      "outputs": []
    },
    {
      "metadata": {
        "trusted": true,
        "_uuid": "2685f7e90154446a6fa1bb553ce1875c1282009b"
      },
      "cell_type": "code",
      "source": "train_data[\"Embarked\"].value_counts()",
      "execution_count": null,
      "outputs": []
    },
    {
      "metadata": {
        "_uuid": "c96bb903e25d366689c653f487becd64342da9dc"
      },
      "cell_type": "markdown",
      "source": "The Embarked attribute tells us where the passenger embarked: C=Cherbourg, Q=Queenstown, S=Southampton.\n\nNow let's build our preprocessing pipelines. We will reuse the DataframeSelector we built in the previous chapter to select specific attributes from the DataFrame:\n"
    },
    {
      "metadata": {
        "trusted": true,
        "_uuid": "0244e99abd1365a57145758069493e97957383a1"
      },
      "cell_type": "code",
      "source": "from sklearn.base import BaseEstimator, TransformerMixin\n\n# A class to select numerical or categorical columns \n# since Scikit-Learn doesn't handle DataFrames yet\nclass DataFrameSelector(BaseEstimator, TransformerMixin):\n    def __init__(self, attribute_names):\n        self.attribute_names = attribute_names\n    def fit(self, X, y=None):\n        return self\n    def transform(self, X):\n        return X[self.attribute_names]",
      "execution_count": null,
      "outputs": []
    },
    {
      "metadata": {
        "_uuid": "c93848ae7b9769aa256beb2dbb1e942fa1ab78a4"
      },
      "cell_type": "markdown",
      "source": "Let's build the pipeline for the numerical attributes:"
    },
    {
      "metadata": {
        "trusted": true,
        "_uuid": "370843887f86d2f8669edafcb54488c797f3b46f"
      },
      "cell_type": "code",
      "source": "from sklearn.pipeline import Pipeline\nfrom sklearn.impute import SimpleImputer\n\nimputer = SimpleImputer(strategy=\"median\")\n\nnum_pipeline = Pipeline([\n        (\"select_numeric\", DataFrameSelector([\"Age\", \"SibSp\", \"Parch\", \"Fare\"])),\n        (\"imputer\", SimpleImputer(strategy=\"median\")),\n    ])",
      "execution_count": null,
      "outputs": []
    },
    {
      "metadata": {
        "trusted": true,
        "_uuid": "9c76e32d8c3b582525fcd43a167fa1d17d225e89"
      },
      "cell_type": "code",
      "source": "num_pipeline.fit_transform(train_data)",
      "execution_count": null,
      "outputs": []
    },
    {
      "metadata": {
        "_uuid": "e7b88cb31f7f4afcbff41eff2a6e921bc526c214"
      },
      "cell_type": "markdown",
      "source": "We will also need an imputer for the string categorical columns (the regular `Imputer` does not work on those):"
    },
    {
      "metadata": {
        "trusted": true,
        "_uuid": "883ccd136bb8eecee0f61e7ca4edde8b44bffead"
      },
      "cell_type": "code",
      "source": "# Inspired from stackoverflow.com/questions/25239958\nclass MostFrequentImputer(BaseEstimator, TransformerMixin):\n    def fit(self, X, y=None):\n        self.most_frequent_ = pd.Series([X[c].value_counts().index[0] for c in X],\n                                        index=X.columns)\n        return self\n    def transform(self, X, y=None):\n        return X.fillna(self.most_frequent_)",
      "execution_count": null,
      "outputs": []
    },
    {
      "metadata": {
        "_uuid": "b367c8326f5bc4d2c9e6c11adf08f0cf7829331e"
      },
      "cell_type": "markdown",
      "source": "We can convert each categorical value to a one-hot vector using a `OneHotEncoder`. Right now this class can only handle integer categorical inputs, but in Scikit-Learn 0.20 it will also handle string categorical inputs (see [PR #10521](https://github.com/scikit-learn/scikit-learn/issues/10521)). So for now we import it from `future_encoders.py`, but when Scikit-Learn 0.20 is released, you can import it from `sklearn.preprocessing` instead:"
    },
    {
      "metadata": {
        "trusted": true,
        "_uuid": "a814f6d16b1087ad57648533f90357f8494bc47f"
      },
      "cell_type": "code",
      "source": "from sklearn.preprocessing import OneHotEncoder",
      "execution_count": null,
      "outputs": []
    },
    {
      "metadata": {
        "_uuid": "fee7b7ca76beb6f9063330c100aadfbb77f19508"
      },
      "cell_type": "markdown",
      "source": "Now we can build the pipeline for the categorical attributes:"
    },
    {
      "metadata": {
        "trusted": true,
        "_uuid": "bcb04affd093c0b79c5b719f3caf54b81e31ba40"
      },
      "cell_type": "code",
      "source": "cat_pipeline = Pipeline([\n        (\"select_cat\", DataFrameSelector([\"Pclass\", \"Sex\", \"Embarked\"])),\n        (\"imputer\", MostFrequentImputer()),\n        (\"cat_encoder\", OneHotEncoder(sparse=False)),\n    ])",
      "execution_count": null,
      "outputs": []
    },
    {
      "metadata": {
        "trusted": true,
        "_uuid": "ef6fc7b5f5e33a1fc6b2684d71ac6382c219cc5b"
      },
      "cell_type": "code",
      "source": "cat_pipeline.fit_transform(train_data)",
      "execution_count": null,
      "outputs": []
    },
    {
      "metadata": {
        "_uuid": "af5489b40ce0ce24b78bbe4104e77bf6095d13a8"
      },
      "cell_type": "markdown",
      "source": "Finally, let's join the numerical and categorical pipelines:"
    },
    {
      "metadata": {
        "trusted": true,
        "_uuid": "b1411907b9a05909d650e1ba49b57faaec7d7832"
      },
      "cell_type": "code",
      "source": "from sklearn.pipeline import FeatureUnion\npreprocess_pipeline = FeatureUnion(transformer_list=[\n        (\"num_pipeline\", num_pipeline),\n        (\"cat_pipeline\", cat_pipeline),\n    ])",
      "execution_count": null,
      "outputs": []
    },
    {
      "metadata": {
        "trusted": true,
        "_uuid": "d029ec701af066b912bdd8e922a6d3949c944eb2"
      },
      "cell_type": "code",
      "source": "",
      "execution_count": null,
      "outputs": []
    },
    {
      "metadata": {
        "_uuid": "c7d90bd997b89711ac19ed01e53cf9b04745838e"
      },
      "cell_type": "markdown",
      "source": "Cool! Now we have a nice preprocessing pipeline that takes the raw data and outputs numerical input features that we can feed to any Machine Learning model we want."
    },
    {
      "metadata": {
        "trusted": true,
        "_uuid": "02ea95f5ea9d4a746684ca3a6fa4dce2763ad2be"
      },
      "cell_type": "code",
      "source": "X_train = preprocess_pipeline.fit_transform(train_data)\nX_train",
      "execution_count": null,
      "outputs": []
    },
    {
      "metadata": {
        "_uuid": "ff27d56b93110b589d76ea4a8960189f284ef4e3"
      },
      "cell_type": "markdown",
      "source": "Let's not forget to get the labels:"
    },
    {
      "metadata": {
        "trusted": true,
        "_uuid": "a543da78fe31a68add0c69bb3188e0be39ef518f"
      },
      "cell_type": "code",
      "source": "y_train = train_data[\"Survived\"]",
      "execution_count": null,
      "outputs": []
    },
    {
      "metadata": {
        "_uuid": "ba8b2c6c9e15d344ff51c46f62d13ffc0e1ef85e"
      },
      "cell_type": "markdown",
      "source": "We are now ready to train a classifier. Let's start with an `SVC`:"
    },
    {
      "metadata": {
        "trusted": true,
        "_uuid": "f0b82d7e7df8e4df34805808a59fd3485b4068a6"
      },
      "cell_type": "code",
      "source": "from sklearn.svm import SVC\n\nsvm_clf = SVC(gamma='auto')\nsvm_clf.fit(X_train, y_train)",
      "execution_count": null,
      "outputs": []
    },
    {
      "metadata": {
        "_uuid": "9d5a274a3c125ee155311882f113eb7825d8e3fc"
      },
      "cell_type": "markdown",
      "source": "Great, our model is trained, let's use it to make predictions on the test set:"
    },
    {
      "metadata": {
        "trusted": true,
        "_uuid": "47af8f90d95537ba654a2ea02141c28b818f7900"
      },
      "cell_type": "code",
      "source": "X_test = preprocess_pipeline.transform(test_data)\ny_pred = svm_clf.predict(X_test)",
      "execution_count": null,
      "outputs": []
    },
    {
      "metadata": {
        "_uuid": "84ba04b9a804aa8c0ab5c187de6f5a3f1e8b40f6"
      },
      "cell_type": "markdown",
      "source": "And now we could just build a CSV file with these predictions (respecting the format excepted by Kaggle), then upload it and hope for the best. But wait! We can do better than hope. Why don't we use cross-validation to have an idea of how good our model is?"
    },
    {
      "metadata": {
        "trusted": true,
        "_uuid": "4ee771a9b37b9e78dccc76448d0f8940cf977540"
      },
      "cell_type": "code",
      "source": "from sklearn.model_selection import cross_val_score\n\nsvm_scores = cross_val_score(svm_clf, X_train, y_train, cv=10)\nsvm_scores.mean()",
      "execution_count": null,
      "outputs": []
    },
    {
      "metadata": {
        "_uuid": "7e076e0e7f61a2b9fa469f931e15f65b4cf2cfda"
      },
      "cell_type": "markdown",
      "source": "Okay, over 73% accuracy, clearly better than random chance, but it's not a great score. Looking at the [leaderboard](https://www.kaggle.com/c/titanic/leaderboard) for the Titanic competition on Kaggle, you can see that you need to reach above 80% accuracy to be within the top 10% Kagglers. Some reached 100%, but since you can easily find the [list of victims](https://www.encyclopedia-titanica.org/titanic-victims/) of the Titanic, it seems likely that there was little Machine Learning involved in their performance! ;-) So let's try to build a model that reaches 80% accuracy."
    },
    {
      "metadata": {
        "_uuid": "ed2ccb7ea925c4a092b829443caa1159ab583e5d"
      },
      "cell_type": "markdown",
      "source": "Let's try a `RandomForestClassifier`:"
    },
    {
      "metadata": {
        "trusted": true,
        "_uuid": "f0d5c9b0a14f280968b769682225ef56f628a9ab"
      },
      "cell_type": "code",
      "source": "from sklearn.ensemble import RandomForestClassifier\n\nforest_clf = RandomForestClassifier(random_state=42, n_estimators=100)\nforest_scores = cross_val_score(forest_clf, X_train, y_train, cv=10)\nforest_scores.mean()",
      "execution_count": null,
      "outputs": []
    },
    {
      "metadata": {
        "_uuid": "dd31c1cd1c83906a5fb5ec45091216bf8e613830"
      },
      "cell_type": "markdown",
      "source": "That's much better!"
    },
    {
      "metadata": {
        "_uuid": "cf094cad83589114588d6c20f068020b962225f9"
      },
      "cell_type": "markdown",
      "source": "Now its time to train the model and predict the values for the test set:"
    },
    {
      "metadata": {
        "trusted": true,
        "_uuid": "47f543889adb2dc5b707ca99a5b2c7e095d80614"
      },
      "cell_type": "code",
      "source": "forest_clf.fit(X=X_train, y=y_train)\ny_predict = forest_clf.predict(X_test)",
      "execution_count": null,
      "outputs": []
    },
    {
      "metadata": {
        "_kg_hide-output": false,
        "trusted": true,
        "_uuid": "7c3ff6d3e155391a2b0f5f2c328d79e4c578780f"
      },
      "cell_type": "code",
      "source": "df = pd.DataFrame(test_data['PassengerId'])\ndf['Survived'] = y_predict\ndf.to_csv('my_submission.csv', index=False)",
      "execution_count": null,
      "outputs": []
    },
    {
      "metadata": {
        "_uuid": "0612d2b1f96a639fe78654bc62dff61e4016d0aa"
      },
      "cell_type": "markdown",
      "source": "Instead of just looking at the mean accuracy across the 10 cross-validation folds, let's plot all 10 scores for each model, along with a box plot highlighting the lower and upper quartiles, and \"whiskers\" showing the extent of the scores (thanks to Nevin Yilmaz for suggesting this visualization). Note that the `boxplot()` function detects outliers (called \"fliers\") and does not include them within the whiskers. Specifically, if the lower quartile is $Q_1$ and the upper quartile is $Q_3$, then the interquartile range $IQR = Q_3 - Q_1$ (this is the box's height), and any score lower than $Q_1 - 1.5 \\times IQR$ is a flier, and so is any score greater than $Q3 + 1.5 \\times IQR$.\n"
    },
    {
      "metadata": {
        "trusted": true,
        "_uuid": "1e7b909dd8c39303955d04f17fe8ccc3bec71623"
      },
      "cell_type": "code",
      "source": "import matplotlib\nimport matplotlib.pyplot as plt\n\nplt.figure(figsize=(8, 4))\nplt.plot([1]*10, svm_scores, \".\")\nplt.plot([2]*10, forest_scores, \".\")\nplt.boxplot([svm_scores, forest_scores], labels=(\"SVM\",\"Random Forest\"))\nplt.ylabel(\"Accuracy\", fontsize=14)\nplt.show()",
      "execution_count": null,
      "outputs": []
    },
    {
      "metadata": {
        "_uuid": "e01bcd1ef8c665ecca266640917c8d361a6e1297"
      },
      "cell_type": "markdown",
      "source": "To improve this result further, you could:\n\n*     Compare many more models and tune hyperparameters using cross validation and grid search,\n*     Do more feature engineering, for example:\n    *         replace SibSp and Parch with their sum,\n    *         try to identify parts of names that correlate well with the Survived attribute (e.g. if the name contains \"Countess\", then survival seems more likely),\n*     try to convert numerical attributes to categorical attributes: for example, different age groups had very different survival rates (see below), so it may help to create an age bucket category and use it instead of the age. Similarly, it may be useful to have a special category for people traveling alone since only 30% of them survived (see below)."
    },
    {
      "metadata": {
        "trusted": true,
        "_uuid": "fe7899c60059e2a1ad54964b971e57fa820837d6"
      },
      "cell_type": "code",
      "source": "train_data[\"AgeBucket\"] = train_data[\"Age\"] // 15 * 15\ntrain_data[[\"AgeBucket\", \"Survived\"]].groupby(['AgeBucket']).mean()",
      "execution_count": null,
      "outputs": []
    },
    {
      "metadata": {
        "trusted": true,
        "_uuid": "b57f91840d32efaf72484f99445f90b3e2e08b03"
      },
      "cell_type": "code",
      "source": "train_data[\"RelativesOnboard\"] = train_data[\"SibSp\"] + train_data[\"Parch\"]\ntrain_data[[\"RelativesOnboard\", \"Survived\"]].groupby(['RelativesOnboard']).mean()",
      "execution_count": null,
      "outputs": []
    }
  ],
  "metadata": {
    "kernelspec": {
      "display_name": "Python 3",
      "language": "python",
      "name": "python3"
    },
    "language_info": {
      "name": "python",
      "version": "3.6.6",
      "mimetype": "text/x-python",
      "codemirror_mode": {
        "name": "ipython",
        "version": 3
      },
      "pygments_lexer": "ipython3",
      "nbconvert_exporter": "python",
      "file_extension": ".py"
    }
  },
  "nbformat": 4,
  "nbformat_minor": 1
}